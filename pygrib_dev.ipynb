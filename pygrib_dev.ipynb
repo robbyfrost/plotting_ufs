{
 "cells": [
  {
   "attachments": {},
   "cell_type": "markdown",
   "metadata": {},
   "source": [
    "This program is used for developing new plotting scripts. Once scripts work properly and can be iterated over, this notebook is imported to a script, where it will be run for most cases. Therefore, code here is not normally used and up to date."
   ]
  },
  {
   "cell_type": "code",
   "execution_count": null,
   "metadata": {},
   "outputs": [],
   "source": [
    "import matplotlib.pyplot as plt\n",
    "import cartopy.crs as ccrs\n",
    "import cartopy.feature as cpf\n",
    "import numpy as np\n",
    "from metpy.plots import ctables\n",
    "import pygrib\n",
    "import matplotlib.colors as colors"
   ]
  },
  {
   "cell_type": "code",
   "execution_count": null,
   "metadata": {},
   "outputs": [],
   "source": [
    "hr = 36\n",
    "dhrrr = \"/scratch2/BMC/fv3lam/Robby.Frost/expt_dirs/2019052000_3km_hrrrphys/2019052000/postprd/\"\n",
    "drap = \"/scratch2/BMC/fv3lam/Robby.Frost/expt_dirs/2019052000_3km_rapphys/2019052000/postprd/\"\n",
    "nat_prs = \"natlev\"\n",
    "# set filepaths\n",
    "if hr < 10:\n",
    "    dgrib_h = f\"{dhrrr}rrfs.t00z.{nat_prs}.f00{hr}.rrfs_conuscompact_3km.grib2\"\n",
    "    dgrib_r = f\"{drap}rrfs.t00z.{nat_prs}.f00{hr}.rrfs_conuscompact_3km.grib2\"\n",
    "else:\n",
    "    dgrib_h = f\"{dhrrr}rrfs.t00z.{nat_prs}.f0{hr}.rrfs_conuscompact_3km.grib2\"\n",
    "    dgrib_r = f\"{drap}rrfs.t00z.{nat_prs}.f0{hr}.rrfs_conuscompact_3km.grib2\""
   ]
  },
  {
   "cell_type": "code",
   "execution_count": null,
   "metadata": {},
   "outputs": [],
   "source": [
    "grbs_h = pygrib.open(dgrib_h)\n",
    "grbs_r = pygrib.open(dgrib_r)"
   ]
  },
  {
   "cell_type": "code",
   "execution_count": null,
   "metadata": {},
   "outputs": [],
   "source": [
    "tot_accu_h = grbs_h[1374]\n",
    "tot_accu_r = grbs_r[1374]\n",
    "nonc_accu_h = grbs_h[1376]\n",
    "nonc_accu_r = grbs_r[1376]"
   ]
  },
  {
   "cell_type": "code",
   "execution_count": null,
   "metadata": {},
   "outputs": [],
   "source": [
    "lat, lon = tot_accu_h.latlons()"
   ]
  },
  {
   "cell_type": "code",
   "execution_count": null,
   "metadata": {},
   "outputs": [],
   "source": [
    "valid_time = tot_accu_h.validDate"
   ]
  },
  {
   "cell_type": "code",
   "execution_count": null,
   "metadata": {},
   "outputs": [],
   "source": [
    "# Define your custom colorbar bounds\n",
    "cbar_min = 10\n",
    "cbar_max = 400\n",
    "\n",
    "clevs = np.linspace(cbar_min, cbar_max, 50)\n",
    "\n",
    "clevs_diff = np.linspace(10, 20, 50)\n",
    "\n",
    "colors = ctables.registry.get_colortable('NWSReflectivity')\n",
    "\n",
    "# create plot\n",
    "fig, ax = plt.subplots(ncols=2, nrows=2, subplot_kw={'projection': ccrs.PlateCarree()}, \n",
    "                       figsize=(18,16))#, constrained_layout=True)\n",
    "# mapping\n",
    "plt_area = [-104, -94, 30, 39] # W, E, S, N\n",
    "for i, iax in enumerate(ax[:,0]):\n",
    "    iax.coastlines()\n",
    "    iax.add_feature(cpf.BORDERS)\n",
    "    iax.add_feature(cpf.STATES)\n",
    "    iax.set_extent(plt_area)\n",
    "for i, iax in enumerate(ax[:,1]):\n",
    "    iax.coastlines()\n",
    "    iax.add_feature(cpf.BORDERS)\n",
    "    iax.add_feature(cpf.STATES)\n",
    "    iax.set_extent(plt_area)\n",
    "# plot\n",
    "c0 = ax[0,0].contourf(lon, lat, tot_accu_h.values, \n",
    "                    clevs, transform=ccrs.PlateCarree(), \n",
    "                    cmap=colors, extend='max')\n",
    "c1 = ax[0,1].contourf(lon, lat, tot_accu_r.values, \n",
    "                    clevs, transform=ccrs.PlateCarree(), \n",
    "                    cmap=colors, extend='max')\n",
    "c2 = ax[1,0].contourf(lon, lat, tot_accu_h.values - nonc_accu_h.values, \n",
    "                    clevs, transform=ccrs.PlateCarree(), \n",
    "                    cmap=colors, extend='max')\n",
    "c3 = ax[1,1].contourf(lon, lat, tot_accu_r.values - nonc_accu_r.values, \n",
    "                    clevs, transform=ccrs.PlateCarree(), \n",
    "                    cmap=colors, extend='max')\n",
    "\n",
    "# pretty up\n",
    "ax[0,0].set_title(f\"HRRR F0{hr},  Valid 2019-05-21 12:00:00 UTC\")\n",
    "ax[0,1].set_title(f\"RAP F0{hr},  Valid 2019-05-21 12:00:00 UTC\")\n",
    "ax[1,0].set_title(f\"HRRR F0{hr}, Valid 2019-05-21 12:00:00 UTC\")\n",
    "ax[1,1].set_title(f\"RAP F0{hr}, Valid 2019-05-21 12:00:00 UTC\")\n",
    "\n",
    "# Add colorbar\n",
    "cbar = fig.colorbar(c0, ax=ax[0,:], orientation='vertical', \n",
    "                    extend=True, pad=0.02, fraction=0.013, \n",
    "                    aspect=30)\n",
    "cbar.set_label('Total Precipitation Accumilation [mm]')\n",
    "cbar2 = fig.colorbar(c3, ax=ax[1,:], orientation='vertical', \n",
    "                     extend=True, pad=0.02, fraction=0.013, \n",
    "                     aspect=30)\n",
    "cbar2.set_label('Un-Resolved Precipitation Accumilation [mm]')\n",
    "# save fig\n",
    "# plt.savefig(f\"/scratch2/BMC/fv3lam/Robby.Frost/figures/20190520/precip_accum_f{hr}.png\")\n",
    "# plt.close()"
   ]
  },
  {
   "cell_type": "code",
   "execution_count": null,
   "metadata": {},
   "outputs": [],
   "source": []
  }
 ],
 "metadata": {
  "kernelspec": {
   "display_name": "noaa",
   "language": "python",
   "name": "python3"
  },
  "language_info": {
   "codemirror_mode": {
    "name": "ipython",
    "version": 3
   },
   "file_extension": ".py",
   "mimetype": "text/x-python",
   "name": "python",
   "nbconvert_exporter": "python",
   "pygments_lexer": "ipython3",
   "version": "3.10.11"
  },
  "orig_nbformat": 4
 },
 "nbformat": 4,
 "nbformat_minor": 2
}
