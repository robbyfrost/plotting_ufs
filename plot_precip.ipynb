{
 "cells": [
  {
   "attachments": {},
   "cell_type": "markdown",
   "metadata": {},
   "source": [
    "Name: plot_precip.ipynb\n",
    "\n",
    "Author: Robert M. Frost\n",
    "\n",
    "NOAA Global Systems Laboratory\n",
    "\n",
    "Created: 30 June 2023\n",
    "\n",
    "Purpose: Plot preciptation accumulation comparisons using SRW output"
   ]
  },
  {
   "cell_type": "code",
   "execution_count": 1,
   "metadata": {},
   "outputs": [],
   "source": [
    "from plotting_functions import read_grib, plot_precip_acc\n",
    "import numpy as np"
   ]
  },
  {
   "attachments": {},
   "cell_type": "markdown",
   "metadata": {},
   "source": [
    "Read in output"
   ]
  },
  {
   "cell_type": "code",
   "execution_count": 2,
   "metadata": {},
   "outputs": [
    {
     "name": "stdout",
     "output_type": "stream",
     "text": [
      "Reading in grib output\n",
      "Reading in grib output\n",
      "Reading in grib output\n",
      "Reading in grib output\n"
     ]
    }
   ],
   "source": [
    "# hour of interest\n",
    "hr = 18\n",
    "# directory where hrrr grib data are located\n",
    "dgrib_h = \"/scratch2/BMC/fv3lam/Robby.Frost/expt_dirs/2019052000_3km_hrrrphys/2019052000/postprd/\"\n",
    "# read in hrrr precip accumulation\n",
    "tot_accu1, lat, lon, valid_time = read_grib(hr, dgrib_h, \"natlev\", 1374, array_only=False)\n",
    "nonc_accu1 = read_grib(hr, dgrib_h, \"natlev\", 1376, array_only=True)\n",
    "\n",
    "# directory where rap grib data are located\n",
    "dgrib_r = \"/scratch2/BMC/fv3lam/Robby.Frost/expt_dirs/2019052000_3km_hrrrphys/2019052000/postprd/\"\n",
    "# read in rap precip accumulation\n",
    "tot_accu2 = read_grib(hr, dgrib_r, \"natlev\", 1374, array_only=True)\n",
    "nonc_accu2 = read_grib(hr, dgrib_r, \"natlev\", 1376, array_only=True)"
   ]
  },
  {
   "attachments": {},
   "cell_type": "markdown",
   "metadata": {},
   "source": [
    "Plot comparisons"
   ]
  },
  {
   "cell_type": "code",
   "execution_count": 3,
   "metadata": {},
   "outputs": [
    {
     "name": "stdout",
     "output_type": "stream",
     "text": [
      "Plotting F018\n",
      "Figure saved to /scratch2/BMC/fv3lam/Robby.Frost/figures/20190520/precip/precip_accum_f18.png\n"
     ]
    }
   ],
   "source": [
    "# levels for contours to be made\n",
    "clevs = np.arange(0,400,1)\n",
    "# directory for figure to be saved\n",
    "figdir = \"/scratch2/BMC/fv3lam/Robby.Frost/figures/20190520/precip/\"\n",
    "plot_precip_acc(hr, clevs, lon, lat, tot_accu1, tot_accu2, nonc_accu1, nonc_accu2, figdir, valid_time)"
   ]
  }
 ],
 "metadata": {
  "kernelspec": {
   "display_name": "noaa",
   "language": "python",
   "name": "python3"
  },
  "language_info": {
   "codemirror_mode": {
    "name": "ipython",
    "version": 3
   },
   "file_extension": ".py",
   "mimetype": "text/x-python",
   "name": "python",
   "nbconvert_exporter": "python",
   "pygments_lexer": "ipython3",
   "version": "3.10.11"
  },
  "orig_nbformat": 4
 },
 "nbformat": 4,
 "nbformat_minor": 2
}
