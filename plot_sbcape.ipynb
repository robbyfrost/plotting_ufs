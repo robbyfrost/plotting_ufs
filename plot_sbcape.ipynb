{
 "cells": [
  {
   "attachments": {},
   "cell_type": "markdown",
   "metadata": {},
   "source": [
    "Name: plot_sbcape.ipynb\n",
    "\n",
    "Author: Robert M. Frost\n",
    "\n",
    "NOAA Global Systems Laboratory\n",
    "\n",
    "Created: 02 July 2023\n",
    "\n",
    "Purpose: Plot surface based cape utilizing read_grib from plotting_functions.py"
   ]
  },
  {
   "cell_type": "code",
   "execution_count": 1,
   "metadata": {},
   "outputs": [],
   "source": [
    "import matplotlib.pyplot as plt\n",
    "import cartopy.crs as ccrs\n",
    "import cartopy.feature as cpf\n",
    "import numpy as np\n",
    "from metpy.plots import ctables\n",
    "from plotting_functions import read_grib\n",
    "import geopandas as gpd"
   ]
  },
  {
   "cell_type": "code",
   "execution_count": null,
   "metadata": {},
   "outputs": [],
   "source": [
    "# hour of interest\n",
    "hr = 21\n",
    "# directory where hrrr grib data are located\n",
    "dgrib_h = \"/scratch2/BMC/fv3lam/Robby.Frost/expt_dirs/2023041900_3km_hrrrphys/2023041900/postprd/\"\n",
    "# directory where rap grib data are located\n",
    "dgrib_r = \"/scratch2/BMC/fv3lam/Robby.Frost/expt_dirs/2023041900_3km_rapphys/2019052000/postprd/\"\n",
    "# natlev or prslev\n",
    "nat_prs = \"natlev\"\n",
    "# message number for SBCAPE\n",
    "mn_refc = 1408\n",
    "# directory for figure to be output\n",
    "figdir = \"/scratch2/BMC/fv3lam/Robby.Frost/figures/20230419/sbcape/\""
   ]
  },
  {
   "cell_type": "code",
   "execution_count": null,
   "metadata": {},
   "outputs": [],
   "source": []
  }
 ],
 "metadata": {
  "kernelspec": {
   "display_name": "noaa",
   "language": "python",
   "name": "python3"
  },
  "language_info": {
   "codemirror_mode": {
    "name": "ipython",
    "version": 3
   },
   "file_extension": ".py",
   "mimetype": "text/x-python",
   "name": "python",
   "nbconvert_exporter": "python",
   "pygments_lexer": "ipython3",
   "version": "3.10.11"
  },
  "orig_nbformat": 4
 },
 "nbformat": 4,
 "nbformat_minor": 2
}
